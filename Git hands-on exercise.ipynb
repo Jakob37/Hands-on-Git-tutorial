{
 "cells": [
  {
   "cell_type": "markdown",
   "metadata": {},
   "source": [
    "# Introduction\n",
    "\n",
    "This tutorial comes together with the presentation X presenting Git in a conceptual manner. Here, these concepts will be linked with the commands.\n",
    "\n",
    "You could also try following it using graphical interfaces:\n",
    "\n",
    "* On Windows: [GitHub GUI](https://desktop.github.com/)\n",
    "* On Linux: [GitKraken](https://www.gitkraken.com/)"
   ]
  },
  {
   "cell_type": "markdown",
   "metadata": {},
   "source": [
    "## Terms\n",
    "\n",
    "* Repository\n",
    "* Commit\n",
    "* Remote\n",
    "* Branch\n",
    "* Head\n",
    "  * master\n",
    "  * origin\n",
    "  * HEAD\n"
   ]
  },
  {
   "cell_type": "markdown",
   "metadata": {},
   "source": [
    "## Commands\n",
    "\n",
    "* `git init`   Setup a new respository\n",
    "* `git add`    Prepare what changes you want to include in the next commit\n",
    "* `git commit` Create a new commit which will represent a new 'snapshot' in the history of the repository\n",
    "* `git remote`\n",
    "* `git branch`\n",
    "* `git push`\n",
    "* `git pull`\n",
    "* `git status` Check the overall repository status\n",
    "* `git diff`\n",
    "* `git log`\n",
    "* `git checkout`"
   ]
  },
  {
   "cell_type": "markdown",
   "metadata": {},
   "source": [
    "## Run-through"
   ]
  },
  {
   "cell_type": "markdown",
   "metadata": {},
   "source": [
    "### The first commit"
   ]
  },
  {
   "cell_type": "markdown",
   "metadata": {},
   "source": [
    "Go to the folder where you want to start your repository. The command `git init`\n",
    "\n",
    "```\n",
    "git init\n",
    "```\n",
    "\n",
    "At this point your repository will be an empty folder structure.\n",
    "\n",
    "(Image)\n",
    "\n",
    "Next, let's create some files to go in the repository. Here, I create a file called `first_file.txt` and another file called `second_file.txt`. This can be done using any means - at this point we are editing the file tree - we are not doing anything with the Git repository itself. But! Git recognizes that we have done changes. Let's see using `git status`.\n",
    "\n",
    "```\n",
    "git status\n",
    "```\n",
    "\n",
    "What Git tells us is that there are two files added to the file tree, which isn't part of the latest snapshot. At this point, things looks like the following:\n",
    "\n",
    "(Image)\n",
    "\n",
    "Alright, let's create our first snapshot. First we add the files to the `stage` using `git add`. We can either add them one and one, or all at once by simply adding a full directory (here, `.` is the current directory we work in).\n",
    "\n",
    "```\n",
    "git add first_file.txt second_file.txt \n",
    "```\n",
    "\n",
    "Now we have added these changes to the stage - we have `staged` the changes. At this point, things looks like this:\n",
    "\n",
    "(Image)\n",
    "\n",
    "Alright, let's make a snapshot including these added files. We do the snapshot using the `git commit` command. When using this command we need to include a descriptive text.\n",
    "\n",
    "```\n",
    "git commit -m \"Adding the first files\"\n",
    "```\n",
    "\n",
    "Nice! Now our repository looks like the following:\n",
    "\n",
    "(Image)"
   ]
  },
  {
   "cell_type": "markdown",
   "metadata": {},
   "source": [
    "### More commits, and investigating the history"
   ]
  },
  {
   "cell_type": "code",
   "execution_count": null,
   "metadata": {},
   "outputs": [],
   "source": []
  },
  {
   "cell_type": "markdown",
   "metadata": {},
   "source": [
    "## Setup your own repository\n",
    "\n",
    "Use the commands as outlined above to create a new repository in a folder on your computer. It can either be an existing project you would like to start tracking in Git, or a completely new (and empty) project.\n",
    "\n",
    "* Use `git init` to start a new repository.\n",
    "* Either add the existing files, or create some new files and add them using the commands `git add` and `git commit`. \n",
    "* Well done, now your project is version controlled in Git! Next, make some further changes to the repository, which includes adding a file, editing a file and removing a file. (If you don't want to remove any existing files, make two commits - One where you add a file, and one where you remove it). After doing this you should have a history of at least two commits.\n",
    "* Use the `git checkout` command to move back in the history. Check the output from both `git log`, `git status` and `git diff`. Do you see what is going on? Do you see the difference between the *repository* and the *file tree*? One concept that can be initially tricky is to realize that by running `git checkout` you are actually *changing what files you see on the computer*. If there for instance previously has existed one file which you removed in the last snapshot - that file will reappear. Git remembers, even if you have removed it.\n",
    "\n",
    "Nice! Now we have explored using Git to keep track of your repository locally."
   ]
  },
  {
   "cell_type": "markdown",
   "metadata": {},
   "source": [
    "## Link it to GitHub\n",
    "\n",
    "Next, let's link it to [GitHub](http://github.com) so you can show of your project to the world. It is possible to use GitHub without having it publicly, but then you need to either pay 7$ per month or get a student's licence (which is free). Alternatively, setup an account at [GitLab](https://about.gitlab.com/).\n",
    "\n",
    "Tasks here:\n",
    "\n",
    "* Create a repository at GitHub\n",
    "* Link it as your repository's remote\n",
    "* Push things to GitHub\n",
    "* Navigate to your GitHub page and investigate"
   ]
  },
  {
   "cell_type": "markdown",
   "metadata": {},
   "source": [
    "## Further explorations\n",
    "\n",
    "Do some branch exploration. Visualize.\n",
    "\n",
    "* Branching\n",
    "    * `git log --graph --decorate --oneline`\n",
    "* Collaboration with others\n",
    "* Is there any small interesting dataset? Could provide one of the R-datasets. The glass-dataset?"
   ]
  }
 ],
 "metadata": {
  "kernelspec": {
   "display_name": "Bash",
   "language": "bash",
   "name": "bash"
  },
  "language_info": {
   "codemirror_mode": "shell",
   "file_extension": ".sh",
   "mimetype": "text/x-sh",
   "name": "bash"
  }
 },
 "nbformat": 4,
 "nbformat_minor": 2
}
